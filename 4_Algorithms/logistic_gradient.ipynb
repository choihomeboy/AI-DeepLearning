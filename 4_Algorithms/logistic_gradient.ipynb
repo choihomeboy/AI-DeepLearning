{
 "cells": [
  {
   "cell_type": "code",
   "execution_count": 6,
   "metadata": {},
   "outputs": [
    {
     "name": "stdout",
     "output_type": "stream",
     "text": [
      "0.2723166151148636 0.07078367055300061\n",
      "[0.585 0.602 0.619 0.635 0.652 0.668]\n",
      "-11.894629814755575 3.446426187797597\n",
      "[0.    0.007 0.174 0.869 0.995 1.   ]\n",
      "-15.35446677016524 4.430192914472865\n",
      "[0.    0.002 0.113 0.914 0.999 1.   ]\n",
      "-17.66688433085264 5.089167554255116\n",
      "[0.    0.001 0.083 0.936 1.    1.   ]\n",
      "-19.416258290272733 5.588109009779864\n",
      "[0.    0.    0.066 0.95  1.    1.   ]\n"
     ]
    }
   ],
   "source": [
    "import numpy as np\n",
    "\n",
    "def sigmoid(x):\n",
    "    return 1/(1+np.exp(-x))\n",
    "\n",
    "def deriv(w):\n",
    "    partial_b = (-1) * np.sum(y - sigmoid(w[0] + w[1] * x))\n",
    "    partial_w = (-1) * np.sum((y - sigmoid(w[0] + w[1] * x)) * x)\n",
    "    return np.array([partial_b, partial_w])\n",
    "\n",
    "x = np.array([1,2,3,4,5,6])\n",
    "y = np.array([0,0,0,1,1,1])\n",
    "w = np.array([0.5,0.5])\n",
    "\n",
    "np.set_printoptions(suppress=True, precision=3)\n",
    "alpha = 0.1\n",
    "for i in range(5000):\n",
    "    w = w - alpha * deriv(w)\n",
    "    if i % 1000 == 0:\n",
    "        print(w[0], w[1])\n",
    "        yhat = sigmoid(w[0] + w[1] * x)\n",
    "        print(yhat)"
   ]
  },
  {
   "cell_type": "code",
   "execution_count": null,
   "metadata": {},
   "outputs": [],
   "source": []
  }
 ],
 "metadata": {
  "kernelspec": {
   "display_name": "Python 3",
   "language": "python",
   "name": "python3"
  },
  "language_info": {
   "codemirror_mode": {
    "name": "ipython",
    "version": 3
   },
   "file_extension": ".py",
   "mimetype": "text/x-python",
   "name": "python",
   "nbconvert_exporter": "python",
   "pygments_lexer": "ipython3",
   "version": "3.6.5"
  }
 },
 "nbformat": 4,
 "nbformat_minor": 2
}
