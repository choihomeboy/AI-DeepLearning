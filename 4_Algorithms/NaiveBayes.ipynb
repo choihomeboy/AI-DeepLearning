{
 "cells": [
  {
   "cell_type": "code",
   "execution_count": 1,
   "metadata": {},
   "outputs": [
    {
     "data": {
      "text/plain": [
       "<Figure size 600x600 with 64 Axes>"
      ]
     },
     "metadata": {},
     "output_type": "display_data"
    },
    {
     "name": "stdout",
     "output_type": "stream",
     "text": [
      "(8, 8) (64,) 0\n",
      "(1797, 64)\n",
      "(1347, 64) (450, 64) (1347,) (450,)\n",
      "[[51  0  0  0  1  1  0  0  0  0]\n",
      " [ 0 34  0  0  0  0  0  4  2  0]\n",
      " [ 0  9 31  2  0  0  0  0  6  0]\n",
      " [ 0  0  3 40  0  0  0  2  1  0]\n",
      " [ 0  1  0  0 23  1  2 11  0  0]\n",
      " [ 0  0  0  2  0 46  0  2  0  0]\n",
      " [ 0  1  1  0  0  0 49  0  0  0]\n",
      " [ 0  0  0  0  1  1  0 41  0  1]\n",
      " [ 0  3  0  0  0  0  0  7 28  0]\n",
      " [ 0  2  0  3  0  1  0  3  5 28]]\n"
     ]
    }
   ],
   "source": [
    "from sklearn.datasets import load_digits\n",
    "from matplotlib import pyplot as plt\n",
    "from sklearn.naive_bayes import GaussianNB\n",
    "from sklearn import metrics\n",
    "\n",
    "digits = load_digits()\n",
    "\n",
    "fig = plt.figure(figsize=(6, 6)) # figure size in inches\n",
    "for i in range(64):\n",
    "    ax = fig.add_subplot(8, 8, i + 1, xticks=[], yticks=[])\n",
    "    ax.imshow(digits.images[i], cmap=plt.cm.binary, interpolation='nearest')\n",
    "plt.show()\n",
    "\n",
    "print(digits.images[0].shape, digits.data[0].shape, digits.target[0])\n",
    "print(digits.data.shape)\n",
    "\n",
    "from sklearn.model_selection import train_test_split\n",
    "X_train, X_test, y_train, y_test = train_test_split(digits.data, digits.target)\n",
    "\n",
    "print(X_train.shape, X_test.shape, y_train.shape, y_test.shape)\n",
    "\n",
    "clf = GaussianNB()\n",
    "clf.fit(X_train, y_train)\n",
    "pred = clf.predict(X_test)\n",
    "prob = clf.predict_proba(X_test)\n",
    "\n",
    "print(metrics.confusion_matrix(y_test, pred))"
   ]
  },
  {
   "cell_type": "code",
   "execution_count": null,
   "metadata": {},
   "outputs": [],
   "source": []
  }
 ],
 "metadata": {
  "kernelspec": {
   "display_name": "Python 3",
   "language": "python",
   "name": "python3"
  },
  "language_info": {
   "codemirror_mode": {
    "name": "ipython",
    "version": 3
   },
   "file_extension": ".py",
   "mimetype": "text/x-python",
   "name": "python",
   "nbconvert_exporter": "python",
   "pygments_lexer": "ipython3",
   "version": "3.6.5"
  }
 },
 "nbformat": 4,
 "nbformat_minor": 2
}
